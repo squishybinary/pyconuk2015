{
 "cells": [
  {
   "cell_type": "markdown",
   "metadata": {},
   "source": [
    "##Answer to part 5\n",
    "\n",
    "####Do this: look through the output from `nosetests` and make a (mental) list of things that are wrong with the new function\n",
    "\n",
    "the new function doesn't return common n-grams in the order in which they're encountered\n",
    "\n",
    "\n",
    "the new function doesn't correctly deal with n less than 1\n",
    "\n"
   ]
  },
  {
   "cell_type": "markdown",
   "metadata": {},
   "source": [
    "The first different in behaviour is an interesting one: do we actually care about the order? Probably not, since the n-grams are scattered throughout the text. \n",
    "\n",
    "Let's fix the tests rather than the function. If we were using `assert`, then we could wrap everything in `set()` like this:"
   ]
  },
  {
   "cell_type": "code",
   "execution_count": 2,
   "metadata": {
    "collapsed": false
   },
   "outputs": [],
   "source": [
    "def find_common_ngrams(text, cutoff, n):\n",
    "    if n < 1:\n",
    "        return []\n",
    "    words = text.lower().split(' ')\n",
    "    result = []\n",
    "    for start in range(len(words) +1 - n):\n",
    "        ngram = ' '.join(words[start:start+n])\n",
    "        if text.count(ngram) >= cutoff and ngram not in result:\n",
    "            result.append(ngram)\n",
    "            \n",
    "    return result\n",
    "\n",
    "text = \"it was the best of times it was the worst of times\"\n",
    "\n",
    "assert set(find_common_ngrams(text, 2, 1)) == set(['it', 'was', 'the', 'of', 'times'])"
   ]
  },
  {
   "cell_type": "markdown",
   "metadata": {
    "collapsed": true
   },
   "source": [
    "buth with `nose` it's more elegant: we can replace `assert_equal` with `assert_items_equal`:"
   ]
  },
  {
   "cell_type": "code",
   "execution_count": 3,
   "metadata": {
    "collapsed": true
   },
   "outputs": [],
   "source": [
    "from nose.tools import assert_equal, assert_items_equal\n",
    "\n",
    "def test_single_words():\n",
    "    assert_items_equal(find_common_ngrams(text, 2, 1),['it', 'was', 'the', 'of', 'times'])\n",
    "\n",
    "def test_all_words():\n",
    "    assert_items_equal(find_common_ngrams(text, 1, 1),['it', 'was', 'the', 'best', 'of', 'times', 'worst'])"
   ]
  },
  {
   "cell_type": "markdown",
   "metadata": {
    "collapsed": true
   },
   "source": [
    "The second problem is more interesting: note that we get exactly the same output for n=0 as we originally got with the old function:\n",
    "\n",
    "```\n",
    "AssertionError: Lists differ: [''] != []\n",
    "\n",
    "First list contains 1 additional elements.\n",
    "First extra element 0:\n",
    "\n",
    "\n",
    "- ['']\n",
    "+ []\n",
    "\n",
    "```\n",
    "\n",
    "By editing the function, we have re-introduced an old bug. This is called a *regression* and is the reason for the *test-the-bug-before-we-fix-the-bug* approach. \n",
    "\n",
    "#### Do this: edit the *test_ngrams.py* file to solve the two problems we encountered. \n",
    "\n",
    "Change the tests to use `assert_items_equal` where necessary, and change the function to return an empty string for n<1. \n",
    "\n",
    "Verify that when you re-run `nosetests` you don't get any errors.\n",
    "\n",
    "[click here for part 7](Testing for scientists part 7.html)"
   ]
  },
  {
   "cell_type": "code",
   "execution_count": 222,
   "metadata": {
    "collapsed": false
   },
   "outputs": [
    {
     "data": {
      "application/javascript": [
       "\n",
       "function regentoc() {\n",
       "    document.getElementById(\"toc\").innerHTML = \"\";\n",
       "    var currenth2 = 0;\n",
       "    $(\"h2,h3\").not(\"#Contents\").each(function(mainIndex) {\n",
       "        el = $(this);\n",
       "        title = el.attr(\"id\");\n",
       "        text = el.html();\n",
       "        link = \"#\" + el.attr(\"id\");\n",
       "        if ( document.getElementById(title).tagName == \"H2\" ) {\n",
       "            currenth2 += 1;\n",
       "            newLine =\n",
       "                \"<li class='maintoc'>\" +\n",
       "                   \"<a href='\" + link + \"'>\" + text + \"</a>\" +\n",
       "                \"</li>\" +\n",
       "                \"<ul id='h2\" + currenth2 + \"'></ul>\";\n",
       "            document.getElementById(\"toc\").innerHTML += newLine;\n",
       "        } else if ( document.getElementById(title).tagName==\"H3\" ) {\n",
       "            h1list = document.getElementById(\"h2\"+currenth2);\n",
       "            newLine = \"<li class='subtoc'>\" + \"<a href='\" + link + \"'>\" + text + \"</a>\" + \"</li>\";\n",
       "            h1list.innerHTML += newLine;\n",
       "        }\n",
       "    });\n",
       "}\n",
       " \n",
       "setInterval(regentoc,1000);\n"
      ],
      "text/plain": [
       "<IPython.core.display.Javascript object>"
      ]
     },
     "execution_count": 222,
     "metadata": {},
     "output_type": "execute_result"
    }
   ],
   "source": [
    "# ignore this cell, it's for loading custom js code\n",
    "from IPython.core.display import Javascript\n",
    "Javascript(filename=\"custom.js\")"
   ]
  },
  {
   "cell_type": "code",
   "execution_count": 223,
   "metadata": {
    "collapsed": false
   },
   "outputs": [
    {
     "data": {
      "text/html": [
       "<style>\n",
       "@import url(http://fonts.googleapis.com/css?family=Vollkorn:400,400italic,700,700italic);\n",
       "\n",
       "div.output_text{\n",
       "        max-height:400px;\n",
       "        overflow:scroll;\n",
       "}\n",
       "\n",
       "div#notebook, div.output_text, div.rendered_html {\n",
       "  /* font-family: 'PT Serif' !important; */\n",
       "  font-family: 'Volkorn'; \n",
       "\n",
       "} \n",
       "\n",
       "div.CodeMirror, div.output_area pre, div.output_wrapper, div.prompt {\n",
       "  font-family: 'Source Code Pro', monospace !important;\n",
       "}\n",
       "\n",
       ".output_text {\n",
       "  background-color: #f0f0f0;\n",
       "}\n",
       "\n",
       "\n",
       ".prompt { display: none; }\n",
       "div.output_subarea { max-width: calc(100%); }\n",
       "</style>\n",
       "\n"
      ],
      "text/plain": [
       "<IPython.core.display.HTML object>"
      ]
     },
     "execution_count": 223,
     "metadata": {},
     "output_type": "execute_result"
    }
   ],
   "source": [
    "# ignore this cell, it's for loading custom css code\n",
    "from IPython.core.display import HTML\n",
    "HTML(filename=\"custom.css\")"
   ]
  }
 ],
 "metadata": {
  "kernelspec": {
   "display_name": "Python 2",
   "language": "python",
   "name": "python2"
  },
  "language_info": {
   "codemirror_mode": {
    "name": "ipython",
    "version": 2
   },
   "file_extension": ".py",
   "mimetype": "text/x-python",
   "name": "python",
   "nbconvert_exporter": "python",
   "pygments_lexer": "ipython2",
   "version": "2.7.6"
  }
 },
 "nbformat": 4,
 "nbformat_minor": 0
}
