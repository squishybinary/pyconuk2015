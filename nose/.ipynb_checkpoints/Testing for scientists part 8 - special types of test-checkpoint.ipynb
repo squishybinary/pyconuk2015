{
 "cells": [
  {
   "cell_type": "markdown",
   "metadata": {},
   "source": [
    "##Some special types of testing\n",
    "\n",
    "###Why don't numerical test pass?\n",
    "\n",
    "Python has inherent error when doing floating point calculations:"
   ]
  },
  {
   "cell_type": "code",
   "execution_count": 1,
   "metadata": {
    "collapsed": false
   },
   "outputs": [
    {
     "data": {
      "text/plain": [
       "0.30000000000000004"
      ]
     },
     "execution_count": 1,
     "metadata": {},
     "output_type": "execute_result"
    }
   ],
   "source": [
    "0.1 + 0.2"
   ]
  },
  {
   "cell_type": "markdown",
   "metadata": {},
   "source": [
    "Leading to situations like this:"
   ]
  },
  {
   "cell_type": "code",
   "execution_count": 2,
   "metadata": {
    "collapsed": false
   },
   "outputs": [
    {
     "ename": "AssertionError",
     "evalue": "",
     "output_type": "error",
     "traceback": [
      "\u001b[1;31m---------------------------------------------------------------------------\u001b[0m",
      "\u001b[1;31mAssertionError\u001b[0m                            Traceback (most recent call last)",
      "\u001b[1;32m<ipython-input-2-f515a60a3686>\u001b[0m in \u001b[0;36m<module>\u001b[1;34m()\u001b[0m\n\u001b[1;32m----> 1\u001b[1;33m \u001b[1;32massert\u001b[0m\u001b[1;33m(\u001b[0m\u001b[1;36m0.1\u001b[0m \u001b[1;33m+\u001b[0m \u001b[1;36m0.2\u001b[0m \u001b[1;33m==\u001b[0m \u001b[1;36m0.3\u001b[0m\u001b[1;33m)\u001b[0m\u001b[1;33m\u001b[0m\u001b[0m\n\u001b[0m",
      "\u001b[1;31mAssertionError\u001b[0m: "
     ]
    }
   ],
   "source": [
    "assert(0.1 + 0.2 == 0.3)"
   ]
  },
  {
   "cell_type": "markdown",
   "metadata": {},
   "source": [
    "For many functions, this isn't a problem in real life but makes it hard to test. Solution: `test_almost_equal()`:\n"
   ]
  },
  {
   "cell_type": "code",
   "execution_count": 3,
   "metadata": {
    "collapsed": false
   },
   "outputs": [],
   "source": [
    "from nose.tools import assert_almost_equal\n",
    "assert_almost_equal(0.1 + 0.2, 0.3)"
   ]
  },
  {
   "cell_type": "markdown",
   "metadata": {},
   "source": [
    "###How do we test exceptions?\n",
    "\n",
    "Imagine that we want our common k-gram function to raise a `ValueError` if we give a value for n of less than 1:"
   ]
  },
  {
   "cell_type": "code",
   "execution_count": 6,
   "metadata": {
    "collapsed": false
   },
   "outputs": [
    {
     "ename": "ValueError",
     "evalue": "n must be at least 1",
     "output_type": "error",
     "traceback": [
      "\u001b[1;31m---------------------------------------------------------------------------\u001b[0m",
      "\u001b[1;31mValueError\u001b[0m                                Traceback (most recent call last)",
      "\u001b[1;32m<ipython-input-6-3332a7f79f46>\u001b[0m in \u001b[0;36m<module>\u001b[1;34m()\u001b[0m\n\u001b[0;32m     17\u001b[0m \u001b[1;33m\u001b[0m\u001b[0m\n\u001b[0;32m     18\u001b[0m \u001b[0mtext\u001b[0m \u001b[1;33m=\u001b[0m \u001b[1;34m\"it was the best of times it was the worst of times\"\u001b[0m\u001b[1;33m\u001b[0m\u001b[0m\n\u001b[1;32m---> 19\u001b[1;33m \u001b[0mfind_common_ngrams\u001b[0m\u001b[1;33m(\u001b[0m\u001b[0mtext\u001b[0m\u001b[1;33m,\u001b[0m \u001b[1;36m8\u001b[0m\u001b[1;33m,\u001b[0m \u001b[1;36m0\u001b[0m\u001b[1;33m)\u001b[0m\u001b[1;33m\u001b[0m\u001b[0m\n\u001b[0m",
      "\u001b[1;32m<ipython-input-6-3332a7f79f46>\u001b[0m in \u001b[0;36mfind_common_ngrams\u001b[1;34m(text, cutoff, n)\u001b[0m\n\u001b[0;32m      1\u001b[0m \u001b[1;32mdef\u001b[0m \u001b[0mfind_common_ngrams\u001b[0m\u001b[1;33m(\u001b[0m\u001b[0mtext\u001b[0m\u001b[1;33m,\u001b[0m \u001b[0mcutoff\u001b[0m\u001b[1;33m,\u001b[0m \u001b[0mn\u001b[0m\u001b[1;33m)\u001b[0m\u001b[1;33m:\u001b[0m\u001b[1;33m\u001b[0m\u001b[0m\n\u001b[0;32m      2\u001b[0m     \u001b[1;32mif\u001b[0m \u001b[0mn\u001b[0m\u001b[1;33m<\u001b[0m\u001b[1;36m1\u001b[0m\u001b[1;33m:\u001b[0m\u001b[1;33m\u001b[0m\u001b[0m\n\u001b[1;32m----> 3\u001b[1;33m         \u001b[1;32mraise\u001b[0m \u001b[0mValueError\u001b[0m\u001b[1;33m(\u001b[0m\u001b[1;34m'n must be at least 1'\u001b[0m\u001b[1;33m)\u001b[0m\u001b[1;33m\u001b[0m\u001b[0m\n\u001b[0m\u001b[0;32m      4\u001b[0m     \u001b[0mwords\u001b[0m \u001b[1;33m=\u001b[0m \u001b[0mtext\u001b[0m\u001b[1;33m.\u001b[0m\u001b[0mlower\u001b[0m\u001b[1;33m(\u001b[0m\u001b[1;33m)\u001b[0m\u001b[1;33m.\u001b[0m\u001b[0msplit\u001b[0m\u001b[1;33m(\u001b[0m\u001b[1;34m' '\u001b[0m\u001b[1;33m)\u001b[0m\u001b[1;33m\u001b[0m\u001b[0m\n\u001b[0;32m      5\u001b[0m     \u001b[0mngram_counts\u001b[0m \u001b[1;33m=\u001b[0m \u001b[1;33m{\u001b[0m\u001b[1;33m}\u001b[0m\u001b[1;33m\u001b[0m\u001b[0m\n",
      "\u001b[1;31mValueError\u001b[0m: n must be at least 1"
     ]
    }
   ],
   "source": [
    "def find_common_ngrams(text, cutoff, n):\n",
    "    if n<1:\n",
    "        raise ValueError('n must be at least 1')\n",
    "    words = text.lower().split(' ')\n",
    "    ngram_counts = {}\n",
    "    for start in range(len(words) +1 - n):\n",
    "        ngram = ' '.join(words[start:start+n])\n",
    "        current_count = ngram_counts.get(ngram, 0)\n",
    "        ngram_counts[ngram] = current_count + 1\n",
    "    \n",
    "    result = []\n",
    "    for ngram, count in ngram_counts.items():\n",
    "        if count >= cutoff:\n",
    "            result.append(ngram)\n",
    "        \n",
    "    return result\n",
    "\n",
    "text = \"it was the best of times it was the worst of times\"\n",
    "find_common_ngrams(text, 8, 0)"
   ]
  },
  {
   "cell_type": "markdown",
   "metadata": {},
   "source": [
    "How to test it? `assert` and `assert_equal` won't work, because the function doesn't actually return a value. Solution: use `assert_raises`:"
   ]
  },
  {
   "cell_type": "code",
   "execution_count": 7,
   "metadata": {
    "collapsed": true
   },
   "outputs": [],
   "source": [
    "from nose.tools import assert_raises\n",
    "assert_raises(ValueError, find_common_ngrams, text, 8, 0)"
   ]
  },
  {
   "cell_type": "markdown",
   "metadata": {
    "collapsed": true
   },
   "source": [
    "###How to deal with tests that alter state?\n",
    "\n",
    "The `find_common_ngrams()` function is easy to test because it doesn't change the *state* of the program. \n",
    "\n",
    "Consider this function, which takes a list of words and removes any long ones:"
   ]
  },
  {
   "cell_type": "code",
   "execution_count": 8,
   "metadata": {
    "collapsed": false
   },
   "outputs": [
    {
     "name": "stdout",
     "output_type": "stream",
     "text": [
      "['it', 'was', 'the', 'best', 'of', 'times', 'it', 'was', 'the', 'worst', 'of', 'times']\n",
      "['it', 'of', 'it', 'of']\n"
     ]
    }
   ],
   "source": [
    "def remove_long_words(word_list, max):\n",
    "    for word in list(word_list):\n",
    "        if len(word) > max:\n",
    "            word_list.remove(word)\n",
    "            \n",
    "words = \"it was the best of times it was the worst of times\".split()\n",
    "print(words)\n",
    "remove_long_words(words, 2)\n",
    "print(words)"
   ]
  },
  {
   "cell_type": "markdown",
   "metadata": {
    "collapsed": true
   },
   "source": [
    "How to test it? This well be fine at first:"
   ]
  },
  {
   "cell_type": "code",
   "execution_count": 11,
   "metadata": {
    "collapsed": true
   },
   "outputs": [],
   "source": [
    "from nose.tools import assert_equal\n",
    "\n",
    "def remove_long_words(word_list, max):\n",
    "    for word in list(word_list):\n",
    "        if len(word) > max:\n",
    "            word_list.remove(word)\n",
    "            \n",
    "words = \"it was the best of times it was the worst of times\".split()\n",
    "\n",
    "def test_two():\n",
    "    remove_long_words(words, 2)\n",
    "    assert_equal(words, ['it', 'of', 'it', 'of'])"
   ]
  },
  {
   "cell_type": "markdown",
   "metadata": {
    "collapsed": true
   },
   "source": [
    "But then when we add another test: danger!"
   ]
  },
  {
   "cell_type": "code",
   "execution_count": 12,
   "metadata": {
    "collapsed": true
   },
   "outputs": [],
   "source": [
    "from nose.tools import assert_equal\n",
    "\n",
    "def remove_long_words(word_list, max):\n",
    "    for word in list(word_list):\n",
    "        if len(word) > max:\n",
    "            word_list.remove(word)\n",
    "            \n",
    "words = \"it was the best of times it was the worst of times\".split()\n",
    "\n",
    "def test_two():\n",
    "    remove_long_words(words, 2)\n",
    "    assert_equal(words, ['it', 'of', 'it', 'of'])\n",
    "\n",
    "def test_four():\n",
    "    remove_long_words(words, 4)\n",
    "    assert_equal(words, ['it', 'was', 'the', 'best', 'of', 'it', 'was', 'the', 'of'])"
   ]
  },
  {
   "cell_type": "markdown",
   "metadata": {
    "collapsed": true
   },
   "source": [
    "Now the sucess/failure of the tests depends on their order. If `test_two()` is run before `test_four()` then `test_four()` will fail because all the 3 and 4 character words will already be removed. \n",
    "\n",
    "**Having tests depend on their order is a Bad Idea!**\n",
    "\n",
    "We need to reset the `words` variable back to the starting point each time. We can do it inside each test function:"
   ]
  },
  {
   "cell_type": "code",
   "execution_count": 13,
   "metadata": {
    "collapsed": true
   },
   "outputs": [],
   "source": [
    "def test_two():\n",
    "    words = \"it was the best of times it was the worst of times\".split()\n",
    "    remove_long_words(words, 2)\n",
    "    assert_equal(words, ['it', 'of', 'it', 'of'])\n",
    "\n",
    "def test_four():\n",
    "    words = \"it was the best of times it was the worst of times\".split()\n",
    "    remove_long_words(words, 4)\n",
    "    assert_equal(words, ['it', 'was', 'the', 'best', 'of', 'it', 'was', 'the', 'of'])"
   ]
  },
  {
   "cell_type": "markdown",
   "metadata": {
    "collapsed": true
   },
   "source": [
    "This only works as long as the set-up code is short. `nose` has a more general solution:"
   ]
  },
  {
   "cell_type": "code",
   "execution_count": 14,
   "metadata": {
    "collapsed": true
   },
   "outputs": [],
   "source": [
    "from nose.tools import assert_equal, with_setup\n",
    "\n",
    "def remove_long_words(word_list, max):\n",
    "    for word in list(word_list):\n",
    "        if len(word) > max:\n",
    "            word_list.remove(word)         \n",
    "\n",
    "words = []\n",
    "def setup_words():\n",
    "    global words\n",
    "    words = \"it was the best of times it was the worst of times\".split()\n",
    "\n",
    "@with_setup(setup_words)\n",
    "def test_two():    \n",
    "    remove_long_words(words, 2)\n",
    "    assert_equal(words, ['it', 'of', 'it', 'of'])\n",
    "\n",
    "@with_setup(setup_words)\n",
    "def test_four():\n",
    "    remove_long_words(words, 4)\n",
    "    assert_equal(words, ['it', 'was', 'the', 'best', 'of', 'it', 'was', 'the', 'of'])"
   ]
  },
  {
   "cell_type": "markdown",
   "metadata": {},
   "source": [
    "Create a set-up function, and pass the name of the function to a decorator for tests that require it. Why is this better?\n",
    "\n",
    "- set-up code and test code are separated, making them both easier to read\n",
    "- set-up code doesn't have to be repeated\n",
    "- we can see at a glance which tests require set-up"
   ]
  },
  {
   "cell_type": "code",
   "execution_count": 222,
   "metadata": {
    "collapsed": false
   },
   "outputs": [
    {
     "data": {
      "application/javascript": [
       "\n",
       "function regentoc() {\n",
       "    document.getElementById(\"toc\").innerHTML = \"\";\n",
       "    var currenth2 = 0;\n",
       "    $(\"h2,h3\").not(\"#Contents\").each(function(mainIndex) {\n",
       "        el = $(this);\n",
       "        title = el.attr(\"id\");\n",
       "        text = el.html();\n",
       "        link = \"#\" + el.attr(\"id\");\n",
       "        if ( document.getElementById(title).tagName == \"H2\" ) {\n",
       "            currenth2 += 1;\n",
       "            newLine =\n",
       "                \"<li class='maintoc'>\" +\n",
       "                   \"<a href='\" + link + \"'>\" + text + \"</a>\" +\n",
       "                \"</li>\" +\n",
       "                \"<ul id='h2\" + currenth2 + \"'></ul>\";\n",
       "            document.getElementById(\"toc\").innerHTML += newLine;\n",
       "        } else if ( document.getElementById(title).tagName==\"H3\" ) {\n",
       "            h1list = document.getElementById(\"h2\"+currenth2);\n",
       "            newLine = \"<li class='subtoc'>\" + \"<a href='\" + link + \"'>\" + text + \"</a>\" + \"</li>\";\n",
       "            h1list.innerHTML += newLine;\n",
       "        }\n",
       "    });\n",
       "}\n",
       " \n",
       "setInterval(regentoc,1000);\n"
      ],
      "text/plain": [
       "<IPython.core.display.Javascript object>"
      ]
     },
     "execution_count": 222,
     "metadata": {},
     "output_type": "execute_result"
    }
   ],
   "source": [
    "# ignore this cell, it's for loading custom js code\n",
    "from IPython.core.display import Javascript\n",
    "Javascript(filename=\"custom.js\")"
   ]
  },
  {
   "cell_type": "code",
   "execution_count": 223,
   "metadata": {
    "collapsed": false
   },
   "outputs": [
    {
     "data": {
      "text/html": [
       "<style>\n",
       "@import url(http://fonts.googleapis.com/css?family=Vollkorn:400,400italic,700,700italic);\n",
       "\n",
       "div.output_text{\n",
       "        max-height:400px;\n",
       "        overflow:scroll;\n",
       "}\n",
       "\n",
       "div#notebook, div.output_text, div.rendered_html {\n",
       "  /* font-family: 'PT Serif' !important; */\n",
       "  font-family: 'Volkorn'; \n",
       "\n",
       "} \n",
       "\n",
       "div.CodeMirror, div.output_area pre, div.output_wrapper, div.prompt {\n",
       "  font-family: 'Source Code Pro', monospace !important;\n",
       "}\n",
       "\n",
       ".output_text {\n",
       "  background-color: #f0f0f0;\n",
       "}\n",
       "\n",
       "\n",
       ".prompt { display: none; }\n",
       "div.output_subarea { max-width: calc(100%); }\n",
       "</style>\n",
       "\n"
      ],
      "text/plain": [
       "<IPython.core.display.HTML object>"
      ]
     },
     "execution_count": 223,
     "metadata": {},
     "output_type": "execute_result"
    }
   ],
   "source": [
    "# ignore this cell, it's for loading custom css code\n",
    "from IPython.core.display import HTML\n",
    "HTML(filename=\"custom.css\")"
   ]
  }
 ],
 "metadata": {
  "kernelspec": {
   "display_name": "Python 2",
   "language": "python",
   "name": "python2"
  },
  "language_info": {
   "codemirror_mode": {
    "name": "ipython",
    "version": 2
   },
   "file_extension": ".py",
   "mimetype": "text/x-python",
   "name": "python",
   "nbconvert_exporter": "python",
   "pygments_lexer": "ipython2",
   "version": "2.7.6"
  }
 },
 "nbformat": 4,
 "nbformat_minor": 0
}
