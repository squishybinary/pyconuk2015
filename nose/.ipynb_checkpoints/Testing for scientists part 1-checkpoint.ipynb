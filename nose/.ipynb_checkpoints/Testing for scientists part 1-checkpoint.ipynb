{
 "cells": [
  {
   "cell_type": "markdown",
   "metadata": {
    "collapsed": true
   },
   "source": [
    "##Workshop plan\n",
    "\n",
    "- Part 1: introducing the example and writing a first test\n",
    "- Part 2: building a test suite and fixing some bugs\n",
    "- Part 3: refactoring and testing\n",
    "- Part 4: introducing `nose`\n",
    "- Part 5: interpreting test output\n",
    "- Part 6: fixing regressions\n",
    "- Part 7: wrapping up\n",
    "- Part 8: special types of testing\n",
    "\n",
    "###All about n-grams\n",
    "\n",
    "If we take a list of words and split them into overlapping pairs then we have *digrams* or *2-grams* i.e. starting with\n",
    "\n",
    "```\n",
    "what is your favourite colour\n",
    "```\n",
    "\n",
    "gives us\n",
    "\n",
    "```\n",
    "what is\n",
    "     is your\n",
    "        your favourite\n",
    "             favourite colour\n",
    "```             \n",
    "\n",
    "How to do it in code: "
   ]
  },
  {
   "cell_type": "code",
   "execution_count": 238,
   "metadata": {
    "collapsed": false
   },
   "outputs": [
    {
     "name": "stdout",
     "output_type": "stream",
     "text": [
      "it was\n",
      "was the\n",
      "the best\n",
      "best of\n",
      "of times\n",
      "times it\n",
      "it was\n",
      "was the\n",
      "the worst\n",
      "worst of\n",
      "of times\n"
     ]
    }
   ],
   "source": [
    "text = \"it was the best of times it was the worst of times\"\n",
    "words = text.split(' ')\n",
    "for start in range(len(words) -1):\n",
    "        digram = words[start] + ' ' + words[start + 1]\n",
    "        print digram"
   ]
  },
  {
   "cell_type": "markdown",
   "metadata": {},
   "source": [
    "We can do the same for *3-grams*, *4-grams*, etc. i.e. print all *n-grams*:"
   ]
  },
  {
   "cell_type": "code",
   "execution_count": 239,
   "metadata": {
    "collapsed": false
   },
   "outputs": [
    {
     "name": "stdout",
     "output_type": "stream",
     "text": [
      "it was the best\n",
      "was the best of\n",
      "the best of times\n",
      "best of times it\n",
      "of times it was\n",
      "times it was the\n",
      "it was the worst\n",
      "was the worst of\n",
      "the worst of times\n"
     ]
    }
   ],
   "source": [
    "text = \"it was the best of times it was the worst of times\"\n",
    "words = text.split(' ')\n",
    "n = 4\n",
    "for start in range(len(words) +1 -n):\n",
    "        ngram = ' '.join(words[start:start+n])\n",
    "        print ngram"
   ]
  },
  {
   "cell_type": "markdown",
   "metadata": {},
   "source": [
    "To analyse a bit of text, we might be interested in which n-grams occur most frequently. Write a function which takes a piece of text, a value for n, and a cutoff number, and returns all ngrams that occur more than the given number of times in the text. First attempt:"
   ]
  },
  {
   "cell_type": "code",
   "execution_count": 240,
   "metadata": {
    "collapsed": false
   },
   "outputs": [],
   "source": [
    "def find_common_ngrams(text, cutoff, n):\n",
    "    \n",
    "    # split the text into a list of words\n",
    "    words = text.lower().split(' ')\n",
    "    \n",
    "    # create an empty list to hold the result\n",
    "    result = []\n",
    "\n",
    "    # iterate over the start positions\n",
    "    for start in range(len(words) +1 -n):\n",
    "        \n",
    "        # extract the n-gram from the list of words\n",
    "        ngram = ' '.join(words[start:start+n])\n",
    "        \n",
    "        # count the number of times the ngram appears in the original text\n",
    "        if text.count(ngram) >= cutoff:\n",
    "            result.append(ngram)\n",
    "            \n",
    "    return result\n"
   ]
  },
  {
   "cell_type": "markdown",
   "metadata": {},
   "source": [
    "Now a very simple test: can our function correctly figure out that \n",
    "\n",
    "`it was the best of times it was the worst of times`\n",
    "\n",
    "contains the digrams\n",
    "\n",
    "```it was\n",
    "was the\n",
    "of times```\n",
    "\n",
    "twice?"
   ]
  },
  {
   "cell_type": "code",
   "execution_count": 241,
   "metadata": {
    "collapsed": false
   },
   "outputs": [
    {
     "data": {
      "text/plain": [
       "['it was', 'was the', 'of times', 'it was', 'was the', 'of times']"
      ]
     },
     "execution_count": 241,
     "metadata": {},
     "output_type": "execute_result"
    }
   ],
   "source": [
    "text = \"it was the best of times it was the worst of times\"\n",
    "find_common_ngrams(text, 2, 2)"
   ]
  },
  {
   "cell_type": "markdown",
   "metadata": {},
   "source": [
    "Hmm, elements in the answer are not unique. Is this correct? No way to tell from the description; it depends on what we want to use the output for. \n",
    "\n",
    "**Testing forces us to think carefully about how we want our code to behave.**\n",
    "\n",
    "###Write the test before you fix the bug\n",
    "\n",
    "Let's say that we only want unique digrams in the output. We can test this:"
   ]
  },
  {
   "cell_type": "code",
   "execution_count": 242,
   "metadata": {
    "collapsed": false
   },
   "outputs": [
    {
     "ename": "AssertionError",
     "evalue": "",
     "output_type": "error",
     "traceback": [
      "\u001b[1;31m---------------------------------------------------------------------------\u001b[0m",
      "\u001b[1;31mAssertionError\u001b[0m                            Traceback (most recent call last)",
      "\u001b[1;32m<ipython-input-242-697f75e44afd>\u001b[0m in \u001b[0;36m<module>\u001b[1;34m()\u001b[0m\n\u001b[1;32m----> 1\u001b[1;33m \u001b[1;32massert\u001b[0m \u001b[0mfind_common_ngrams\u001b[0m\u001b[1;33m(\u001b[0m\u001b[0mtext\u001b[0m\u001b[1;33m,\u001b[0m \u001b[1;36m2\u001b[0m\u001b[1;33m,\u001b[0m \u001b[1;36m2\u001b[0m\u001b[1;33m)\u001b[0m \u001b[1;33m==\u001b[0m \u001b[1;33m[\u001b[0m\u001b[1;34m'it was'\u001b[0m\u001b[1;33m,\u001b[0m \u001b[1;34m'was the'\u001b[0m\u001b[1;33m,\u001b[0m \u001b[1;34m'of times'\u001b[0m\u001b[1;33m]\u001b[0m\u001b[1;33m\u001b[0m\u001b[0m\n\u001b[0m",
      "\u001b[1;31mAssertionError\u001b[0m: "
     ]
    }
   ],
   "source": [
    "assert find_common_ngrams(text, 2, 2) == ['it was', 'was the', 'of times']"
   ]
  },
  {
   "cell_type": "markdown",
   "metadata": {},
   "source": [
    "As expected, the test fails. Let's edit the code to fix it:"
   ]
  },
  {
   "cell_type": "code",
   "execution_count": 243,
   "metadata": {
    "collapsed": false
   },
   "outputs": [],
   "source": [
    "def find_common_ngrams(text, cutoff, n):\n",
    "    words = text.lower().split(' ')\n",
    "    result = []\n",
    "    for start in range(len(words) +1 - n):\n",
    "        ngram = ' '.join(words[start:start+n])\n",
    "        \n",
    "        # only add a ngram to the result if it's not already in there\n",
    "        if text.count(ngram) >= cutoff and ngram not in result:\n",
    "            result.append(ngram)\n",
    "            \n",
    "    return result\n",
    "\n",
    "assert find_common_ngrams(text, 2, 2) == ['it was', 'was the', 'of times']"
   ]
  },
  {
   "cell_type": "markdown",
   "metadata": {},
   "source": [
    "Now it runs without error. Why bother writing the test if we're going to fix it anyway? Because bugs have a habit of re-emerging when you start editing the code. \n",
    "\n"
   ]
  },
  {
   "cell_type": "markdown",
   "metadata": {},
   "source": [
    "###How many tests to write?\n",
    "\n",
    "As soon as we start thinking about testing, it's obvious that there are an infinite number of possible tests. A good way to write tests efficiently is to test extreme inputs. If it works for n=1 (i.e. single words) and n=12 (i.e. the complete sentence) then it probably works for other values. \n",
    "\n",
    "####Do this: work out what the correct output should be for the following function calls:\n",
    "\n",
    "```\n",
    "find_common_ngrams(text, 2, 1)\n",
    "find_common_ngrams(text, 2, 3)\n",
    "find_common_ngrams(text, 1, 12)\n",
    "```\n",
    "####and write `assert()` statements to test these behaviours."
   ]
  },
  {
   "cell_type": "markdown",
   "metadata": {},
   "source": [
    "[click here for part 2](Testing for scientists part 2.html)"
   ]
  },
  {
   "cell_type": "code",
   "execution_count": 244,
   "metadata": {
    "collapsed": false
   },
   "outputs": [
    {
     "data": {
      "application/javascript": [
       "\n",
       "function regentoc() {\n",
       "    document.getElementById(\"toc\").innerHTML = \"\";\n",
       "    var currenth2 = 0;\n",
       "    $(\"h2,h3\").not(\"#Contents\").each(function(mainIndex) {\n",
       "        el = $(this);\n",
       "        title = el.attr(\"id\");\n",
       "        text = el.html();\n",
       "        link = \"#\" + el.attr(\"id\");\n",
       "        if ( document.getElementById(title).tagName == \"H2\" ) {\n",
       "            currenth2 += 1;\n",
       "            newLine =\n",
       "                \"<li class='maintoc'>\" +\n",
       "                   \"<a href='\" + link + \"'>\" + text + \"</a>\" +\n",
       "                \"</li>\" +\n",
       "                \"<ul id='h2\" + currenth2 + \"'></ul>\";\n",
       "            document.getElementById(\"toc\").innerHTML += newLine;\n",
       "        } else if ( document.getElementById(title).tagName==\"H3\" ) {\n",
       "            h1list = document.getElementById(\"h2\"+currenth2);\n",
       "            newLine = \"<li class='subtoc'>\" + \"<a href='\" + link + \"'>\" + text + \"</a>\" + \"</li>\";\n",
       "            h1list.innerHTML += newLine;\n",
       "        }\n",
       "    });\n",
       "}\n",
       " \n",
       "setInterval(regentoc,1000);\n"
      ],
      "text/plain": [
       "<IPython.core.display.Javascript object>"
      ]
     },
     "execution_count": 244,
     "metadata": {},
     "output_type": "execute_result"
    }
   ],
   "source": [
    "# ignore this cell, it's for loading custom js code\n",
    "from IPython.core.display import Javascript\n",
    "Javascript(filename=\"custom.js\")"
   ]
  },
  {
   "cell_type": "code",
   "execution_count": 245,
   "metadata": {
    "collapsed": false
   },
   "outputs": [
    {
     "data": {
      "text/html": [
       "<style>\n",
       "@import url(http://fonts.googleapis.com/css?family=Vollkorn:400,400italic,700,700italic);\n",
       "\n",
       "div.output_text{\n",
       "        max-height:400px;\n",
       "        overflow:scroll;\n",
       "}\n",
       "\n",
       "div#notebook, div.output_text, div.rendered_html {\n",
       "  /* font-family: 'PT Serif' !important; */\n",
       "  font-family: 'Volkorn'; \n",
       "\n",
       "} \n",
       "\n",
       "div.CodeMirror, div.output_area pre, div.output_wrapper, div.prompt {\n",
       "  font-family: 'Source Code Pro', monospace !important;\n",
       "}\n",
       "\n",
       ".output_text {\n",
       "  background-color: #f0f0f0;\n",
       "}\n",
       "\n",
       "\n",
       ".prompt { display: none; }\n",
       "div.output_subarea { max-width: calc(100%); }\n",
       "</style>\n",
       "\n"
      ],
      "text/plain": [
       "<IPython.core.display.HTML object>"
      ]
     },
     "execution_count": 245,
     "metadata": {},
     "output_type": "execute_result"
    }
   ],
   "source": [
    "# ignore this cell, it's for loading custom css code\n",
    "from IPython.core.display import HTML\n",
    "HTML(filename=\"custom.css\")"
   ]
  }
 ],
 "metadata": {
  "kernelspec": {
   "display_name": "Python 2",
   "language": "python",
   "name": "python2"
  },
  "language_info": {
   "codemirror_mode": {
    "name": "ipython",
    "version": 2
   },
   "file_extension": ".py",
   "mimetype": "text/x-python",
   "name": "python",
   "nbconvert_exporter": "python",
   "pygments_lexer": "ipython2",
   "version": "2.7.6"
  }
 },
 "nbformat": 4,
 "nbformat_minor": 0
}
