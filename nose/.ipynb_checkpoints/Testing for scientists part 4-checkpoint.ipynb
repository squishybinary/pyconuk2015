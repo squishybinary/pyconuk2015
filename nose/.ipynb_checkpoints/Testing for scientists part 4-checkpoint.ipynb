{
 "cells": [
  {
   "cell_type": "markdown",
   "metadata": {
    "collapsed": true
   },
   "source": [
    "##Answer to part 3\n",
    "\n",
    "####Do this: re-run the test suite for the new function and see if we've broken anything"
   ]
  },
  {
   "cell_type": "code",
   "execution_count": 2,
   "metadata": {
    "collapsed": false
   },
   "outputs": [
    {
     "ename": "AssertionError",
     "evalue": "",
     "output_type": "error",
     "traceback": [
      "\u001b[1;31m---------------------------------------------------------------------------\u001b[0m",
      "\u001b[1;31mAssertionError\u001b[0m                            Traceback (most recent call last)",
      "\u001b[1;32m<ipython-input-2-5cb2b565b29f>\u001b[0m in \u001b[0;36m<module>\u001b[1;34m()\u001b[0m\n\u001b[0;32m     20\u001b[0m \u001b[1;33m\u001b[0m\u001b[0m\n\u001b[0;32m     21\u001b[0m \u001b[1;31m# test different cutoffs for the same n\u001b[0m\u001b[1;33m\u001b[0m\u001b[1;33m\u001b[0m\u001b[0m\n\u001b[1;32m---> 22\u001b[1;33m \u001b[1;32massert\u001b[0m \u001b[0mfind_common_ngrams\u001b[0m\u001b[1;33m(\u001b[0m\u001b[0mtext\u001b[0m\u001b[1;33m,\u001b[0m \u001b[1;36m2\u001b[0m\u001b[1;33m,\u001b[0m \u001b[1;36m1\u001b[0m\u001b[1;33m)\u001b[0m \u001b[1;33m==\u001b[0m \u001b[1;33m[\u001b[0m\u001b[1;34m'it'\u001b[0m\u001b[1;33m,\u001b[0m \u001b[1;34m'was'\u001b[0m\u001b[1;33m,\u001b[0m \u001b[1;34m'the'\u001b[0m\u001b[1;33m,\u001b[0m \u001b[1;34m'of'\u001b[0m\u001b[1;33m,\u001b[0m \u001b[1;34m'times'\u001b[0m\u001b[1;33m]\u001b[0m\u001b[1;33m\u001b[0m\u001b[0m\n\u001b[0m\u001b[0;32m     23\u001b[0m \u001b[1;32massert\u001b[0m \u001b[0mfind_common_ngrams\u001b[0m\u001b[1;33m(\u001b[0m\u001b[0mtext\u001b[0m\u001b[1;33m,\u001b[0m \u001b[1;36m1\u001b[0m\u001b[1;33m,\u001b[0m \u001b[1;36m1\u001b[0m\u001b[1;33m)\u001b[0m \u001b[1;33m==\u001b[0m \u001b[1;33m[\u001b[0m\u001b[1;34m'it'\u001b[0m\u001b[1;33m,\u001b[0m \u001b[1;34m'was'\u001b[0m\u001b[1;33m,\u001b[0m \u001b[1;34m'the'\u001b[0m\u001b[1;33m,\u001b[0m \u001b[1;34m'best'\u001b[0m\u001b[1;33m,\u001b[0m \u001b[1;34m'of'\u001b[0m\u001b[1;33m,\u001b[0m \u001b[1;34m'times'\u001b[0m\u001b[1;33m,\u001b[0m \u001b[1;34m'worst'\u001b[0m\u001b[1;33m]\u001b[0m\u001b[1;33m\u001b[0m\u001b[0m\n\u001b[0;32m     24\u001b[0m \u001b[1;33m\u001b[0m\u001b[0m\n",
      "\u001b[1;31mAssertionError\u001b[0m: "
     ]
    }
   ],
   "source": [
    "def find_common_ngrams(text, cutoff, n):\n",
    "    \n",
    "    # first generate a dict of n-gram counts\n",
    "    words = text.lower().split(' ')\n",
    "    ngram_counts = {}\n",
    "    for start in range(len(words) +1 - n):\n",
    "        ngram = ' '.join(words[start:start+n])\n",
    "        current_count = ngram_counts.get(ngram, 0)\n",
    "        ngram_counts[ngram] = current_count + 1\n",
    "    \n",
    "    # now return just the ngrams with count > cutoff\n",
    "    result = []\n",
    "    for ngram, count in ngram_counts.items():\n",
    "        if count >= cutoff:\n",
    "            result.append(ngram)\n",
    "        \n",
    "    return result\n",
    "\n",
    "text = \"it was the best of times it was the worst of times\"\n",
    "\n",
    "# test different cutoffs for the same n\n",
    "assert find_common_ngrams(text, 2, 1) == ['it', 'was', 'the', 'of', 'times']\n",
    "assert find_common_ngrams(text, 1, 1) == ['it', 'was', 'the', 'best', 'of', 'times', 'worst']\n",
    "\n",
    "# test different n with the same cutoff\n",
    "assert find_common_ngrams(text, 2, 3) == ['it was the']\n",
    "assert find_common_ngrams(text, 1, 12) == ['it was the best of times it was the worst of times']\n",
    "\n",
    "# test crazy values of n\n",
    "assert find_common_ngrams(text, 2, 0) == []\n",
    "assert find_common_ngrams(text, 2, -4) == []"
   ]
  },
  {
   "cell_type": "markdown",
   "metadata": {
    "collapsed": true
   },
   "source": [
    "Looks like something is wrong - the new version fails at the very first test. Good job we tested it before starting to use it in real code. \n",
    "\n",
    "But, the output isn't very helpful. Knowing that this single test doesn't give us any clues about *why* it's failing. \n",
    "\n",
    "Let's switch to a better tool....."
   ]
  },
  {
   "cell_type": "markdown",
   "metadata": {
    "collapsed": true
   },
   "source": [
    "##Testing with `nose`\n",
    "\n",
    "`nose` is a testing framework that does all the stuff we've seen, but better. \n",
    "\n",
    "###Naming conventions for `nose`\n",
    "\n",
    "- install with `pip install nose` if you haven't already done so\n",
    "- files that contain test code should start with `test` \n",
    "- tests should be in functions that start with `test`\n",
    "- instead of using `assert`, use `assert_equal()`\n",
    "\n",
    "Here's our test suite for the old version of the function as a set of `nose` tests:"
   ]
  },
  {
   "cell_type": "code",
   "execution_count": 3,
   "metadata": {
    "collapsed": true
   },
   "outputs": [],
   "source": [
    "from nose.tools import assert_equal\n",
    "\n",
    "def find_common_ngrams(text, cutoff, n):\n",
    "    if n < 1:\n",
    "        return []\n",
    "    words = text.lower().split(' ')\n",
    "    result = []\n",
    "    for start in range(len(words) +1 - n):\n",
    "        ngram = ' '.join(words[start:start+n])\n",
    "        if text.count(ngram) >= cutoff and ngram not in result:\n",
    "            result.append(ngram)\n",
    "            \n",
    "    return result\n",
    "\n",
    "text = \"it was the best of times it was the worst of times\"\n",
    "\n",
    "def test_single_words():\n",
    "    assert_equal(find_common_ngrams(text, 2, 1),['it', 'was', 'the', 'of', 'times'])\n",
    "\n",
    "def test_all_words():\n",
    "    assert_equal(find_common_ngrams(text, 1, 1),['it', 'was', 'the', 'best', 'of', 'times', 'worst'])\n",
    "\n",
    "def test_small_n():\n",
    "    assert_equal(find_common_ngrams(text, 2, 3),['it was the'])\n",
    "\n",
    "def test_large_n():\n",
    "    assert_equal(find_common_ngrams(text, 1, 12),['it was the best of times it was the worst of times'])\n",
    "\n",
    "def test_zero_n():\n",
    "    assert_equal(find_common_ngrams(text, 2, 0),[])\n",
    "\n",
    "def test_negative_n():\n",
    "    assert_equal(find_common_ngrams(text, 2, -4),[])"
   ]
  },
  {
   "cell_type": "markdown",
   "metadata": {
    "collapsed": true
   },
   "source": [
    "To run them, do\n",
    "\n",
    "`nosetests`\n",
    "\n",
    "and see the output:"
   ]
  },
  {
   "cell_type": "markdown",
   "metadata": {},
   "source": [
    "```\n",
    "$ nosetests\n",
    "......\n",
    "----------------------------------------------------------------------\n",
    "Ran 6 tests in 0.002s\n",
    "\n",
    "OK\n",
    "```"
   ]
  },
  {
   "cell_type": "markdown",
   "metadata": {
    "collapsed": true
   },
   "source": [
    "As expected, all tests run OK. \n",
    "\n",
    "####Do this: edit the *test_ngrams.py* file, replace the old function definition with the new one, and re-run `nosetests`.\n",
    "\n",
    "[click here for part 5](Testing for scientists part 5.html)"
   ]
  },
  {
   "cell_type": "code",
   "execution_count": 222,
   "metadata": {
    "collapsed": false
   },
   "outputs": [
    {
     "data": {
      "application/javascript": [
       "\n",
       "function regentoc() {\n",
       "    document.getElementById(\"toc\").innerHTML = \"\";\n",
       "    var currenth2 = 0;\n",
       "    $(\"h2,h3\").not(\"#Contents\").each(function(mainIndex) {\n",
       "        el = $(this);\n",
       "        title = el.attr(\"id\");\n",
       "        text = el.html();\n",
       "        link = \"#\" + el.attr(\"id\");\n",
       "        if ( document.getElementById(title).tagName == \"H2\" ) {\n",
       "            currenth2 += 1;\n",
       "            newLine =\n",
       "                \"<li class='maintoc'>\" +\n",
       "                   \"<a href='\" + link + \"'>\" + text + \"</a>\" +\n",
       "                \"</li>\" +\n",
       "                \"<ul id='h2\" + currenth2 + \"'></ul>\";\n",
       "            document.getElementById(\"toc\").innerHTML += newLine;\n",
       "        } else if ( document.getElementById(title).tagName==\"H3\" ) {\n",
       "            h1list = document.getElementById(\"h2\"+currenth2);\n",
       "            newLine = \"<li class='subtoc'>\" + \"<a href='\" + link + \"'>\" + text + \"</a>\" + \"</li>\";\n",
       "            h1list.innerHTML += newLine;\n",
       "        }\n",
       "    });\n",
       "}\n",
       " \n",
       "setInterval(regentoc,1000);\n"
      ],
      "text/plain": [
       "<IPython.core.display.Javascript object>"
      ]
     },
     "execution_count": 222,
     "metadata": {},
     "output_type": "execute_result"
    }
   ],
   "source": [
    "# ignore this cell, it's for loading custom js code\n",
    "from IPython.core.display import Javascript\n",
    "Javascript(filename=\"custom.js\")"
   ]
  },
  {
   "cell_type": "code",
   "execution_count": 223,
   "metadata": {
    "collapsed": false
   },
   "outputs": [
    {
     "data": {
      "text/html": [
       "<style>\n",
       "@import url(http://fonts.googleapis.com/css?family=Vollkorn:400,400italic,700,700italic);\n",
       "\n",
       "div.output_text{\n",
       "        max-height:400px;\n",
       "        overflow:scroll;\n",
       "}\n",
       "\n",
       "div#notebook, div.output_text, div.rendered_html {\n",
       "  /* font-family: 'PT Serif' !important; */\n",
       "  font-family: 'Volkorn'; \n",
       "\n",
       "} \n",
       "\n",
       "div.CodeMirror, div.output_area pre, div.output_wrapper, div.prompt {\n",
       "  font-family: 'Source Code Pro', monospace !important;\n",
       "}\n",
       "\n",
       ".output_text {\n",
       "  background-color: #f0f0f0;\n",
       "}\n",
       "\n",
       "\n",
       ".prompt { display: none; }\n",
       "div.output_subarea { max-width: calc(100%); }\n",
       "</style>\n",
       "\n"
      ],
      "text/plain": [
       "<IPython.core.display.HTML object>"
      ]
     },
     "execution_count": 223,
     "metadata": {},
     "output_type": "execute_result"
    }
   ],
   "source": [
    "# ignore this cell, it's for loading custom css code\n",
    "from IPython.core.display import HTML\n",
    "HTML(filename=\"custom.css\")"
   ]
  }
 ],
 "metadata": {
  "kernelspec": {
   "display_name": "Python 2",
   "language": "python",
   "name": "python2"
  },
  "language_info": {
   "codemirror_mode": {
    "name": "ipython",
    "version": 2
   },
   "file_extension": ".py",
   "mimetype": "text/x-python",
   "name": "python",
   "nbconvert_exporter": "python",
   "pygments_lexer": "ipython2",
   "version": "2.7.6"
  }
 },
 "nbformat": 4,
 "nbformat_minor": 0
}
