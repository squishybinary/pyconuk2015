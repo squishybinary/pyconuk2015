{
 "cells": [
  {
   "cell_type": "markdown",
   "metadata": {},
   "source": [
    "#### Do this: edit the *test_ngrams.py* file to solve the two problems we encountered. \n",
    "\n",
    "Change the tests to use `assert_items_equal` where necessary, and change the function to return an empty string for n<1. \n",
    "\n",
    "Verify that when you re-run `nosetests` you don't get any errors."
   ]
  },
  {
   "cell_type": "code",
   "execution_count": 2,
   "metadata": {
    "collapsed": true
   },
   "outputs": [],
   "source": [
    "from nose.tools import assert_equal, assert_items_equal\n",
    "\n",
    "def find_common_ngrams(text, cutoff, n):\n",
    "    if n<1:\n",
    "        return []\n",
    "    words = text.lower().split(' ')\n",
    "    ngram_counts = {}\n",
    "    for start in range(len(words) +1 - n):\n",
    "        ngram = ' '.join(words[start:start+n])\n",
    "        current_count = ngram_counts.get(ngram, 0)\n",
    "        ngram_counts[ngram] = current_count + 1\n",
    "    \n",
    "    result = []\n",
    "    for ngram, count in ngram_counts.items():\n",
    "        if count >= cutoff:\n",
    "            result.append(ngram)\n",
    "        \n",
    "    return result\n",
    "\n",
    "\n",
    "text = \"it was the best of times it was the worst of times\"\n",
    "\n",
    "def test_single_words():\n",
    "    assert_items_equal(find_common_ngrams(text, 2, 1),['it', 'was', 'the', 'of', 'times'])\n",
    "\n",
    "def test_all_words():\n",
    "    assert_items_equal(find_common_ngrams(text, 1, 1),['it', 'was', 'the', 'best', 'of', 'times', 'worst'])\n",
    "\n",
    "def test_small_n():\n",
    "    assert_equal(find_common_ngrams(text, 2, 3),['it was the'])\n",
    "\n",
    "def test_large_n():\n",
    "    assert_equal(find_common_ngrams(text, 1, 12),['it was the best of times it was the worst of times'])\n",
    "\n",
    "def test_zero_n():\n",
    "    assert_equal(find_common_ngrams(text, 2, 0),[])\n",
    "\n",
    "def test_negative_n():\n",
    "    assert_equal(find_common_ngrams(text, 2, -4),[])"
   ]
  },
  {
   "cell_type": "markdown",
   "metadata": {},
   "source": [
    "Hopefully all tests now pass. \n",
    "\n",
    "##What have we done, and why is it interesting?\n",
    "\n",
    "- we started with a piece of code that we were reasonably sure did *something* useful\n",
    "- we investigated its behaviour and built a suite of tests to formally define how it should work\n",
    "- we made changes to the code to better suit our needs (faster, in this case...)\n",
    "- **we identified bugs in the new code before running it on any real data**\n",
    "- we can now start using the improved version of the code with confidence\n",
    "\n",
    "##Takeaways\n",
    "\n",
    "- testing is useful because \n",
    "  - it forces us to **think clearly** about how we want a piece of code to behave\n",
    "  - it gives us confidence that a piece of code is **working correctly**\n",
    "  \n",
    "- a good way to check that you understand the behaviour of code is to try unusual inputs\n",
    "- a **test suite** is a collection of simple tests that check a range of behaviours\n",
    "- `nose` allows you to write tests more explicitly, and gives you more helpful results when something goes wrong"
   ]
  },
  {
   "cell_type": "code",
   "execution_count": 222,
   "metadata": {
    "collapsed": false
   },
   "outputs": [
    {
     "data": {
      "application/javascript": [
       "\n",
       "function regentoc() {\n",
       "    document.getElementById(\"toc\").innerHTML = \"\";\n",
       "    var currenth2 = 0;\n",
       "    $(\"h2,h3\").not(\"#Contents\").each(function(mainIndex) {\n",
       "        el = $(this);\n",
       "        title = el.attr(\"id\");\n",
       "        text = el.html();\n",
       "        link = \"#\" + el.attr(\"id\");\n",
       "        if ( document.getElementById(title).tagName == \"H2\" ) {\n",
       "            currenth2 += 1;\n",
       "            newLine =\n",
       "                \"<li class='maintoc'>\" +\n",
       "                   \"<a href='\" + link + \"'>\" + text + \"</a>\" +\n",
       "                \"</li>\" +\n",
       "                \"<ul id='h2\" + currenth2 + \"'></ul>\";\n",
       "            document.getElementById(\"toc\").innerHTML += newLine;\n",
       "        } else if ( document.getElementById(title).tagName==\"H3\" ) {\n",
       "            h1list = document.getElementById(\"h2\"+currenth2);\n",
       "            newLine = \"<li class='subtoc'>\" + \"<a href='\" + link + \"'>\" + text + \"</a>\" + \"</li>\";\n",
       "            h1list.innerHTML += newLine;\n",
       "        }\n",
       "    });\n",
       "}\n",
       " \n",
       "setInterval(regentoc,1000);\n"
      ],
      "text/plain": [
       "<IPython.core.display.Javascript object>"
      ]
     },
     "execution_count": 222,
     "metadata": {},
     "output_type": "execute_result"
    }
   ],
   "source": [
    "# ignore this cell, it's for loading custom js code\n",
    "from IPython.core.display import Javascript\n",
    "Javascript(filename=\"custom.js\")"
   ]
  },
  {
   "cell_type": "code",
   "execution_count": 223,
   "metadata": {
    "collapsed": false
   },
   "outputs": [
    {
     "data": {
      "text/html": [
       "<style>\n",
       "@import url(http://fonts.googleapis.com/css?family=Vollkorn:400,400italic,700,700italic);\n",
       "\n",
       "div.output_text{\n",
       "        max-height:400px;\n",
       "        overflow:scroll;\n",
       "}\n",
       "\n",
       "div#notebook, div.output_text, div.rendered_html {\n",
       "  /* font-family: 'PT Serif' !important; */\n",
       "  font-family: 'Volkorn'; \n",
       "\n",
       "} \n",
       "\n",
       "div.CodeMirror, div.output_area pre, div.output_wrapper, div.prompt {\n",
       "  font-family: 'Source Code Pro', monospace !important;\n",
       "}\n",
       "\n",
       ".output_text {\n",
       "  background-color: #f0f0f0;\n",
       "}\n",
       "\n",
       "\n",
       ".prompt { display: none; }\n",
       "div.output_subarea { max-width: calc(100%); }\n",
       "</style>\n",
       "\n"
      ],
      "text/plain": [
       "<IPython.core.display.HTML object>"
      ]
     },
     "execution_count": 223,
     "metadata": {},
     "output_type": "execute_result"
    }
   ],
   "source": [
    "# ignore this cell, it's for loading custom css code\n",
    "from IPython.core.display import HTML\n",
    "HTML(filename=\"custom.css\")"
   ]
  }
 ],
 "metadata": {
  "kernelspec": {
   "display_name": "Python 2",
   "language": "python",
   "name": "python2"
  },
  "language_info": {
   "codemirror_mode": {
    "name": "ipython",
    "version": 2
   },
   "file_extension": ".py",
   "mimetype": "text/x-python",
   "name": "python",
   "nbconvert_exporter": "python",
   "pygments_lexer": "ipython2",
   "version": "2.7.6"
  }
 },
 "nbformat": 4,
 "nbformat_minor": 0
}
