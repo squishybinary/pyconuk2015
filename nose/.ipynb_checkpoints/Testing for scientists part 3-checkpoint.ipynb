{
 "cells": [
  {
   "cell_type": "markdown",
   "metadata": {},
   "source": [
    "##Answer to part 2\n",
    "\n",
    "####Do this: write an assertion stating that the result of calling the `find_common_ngrams()` with n=0 is an empty list, then modify the function definition so that it passes."
   ]
  },
  {
   "cell_type": "code",
   "execution_count": 12,
   "metadata": {
    "collapsed": false
   },
   "outputs": [],
   "source": [
    "def find_common_ngrams(text, cutoff, n):\n",
    "    \n",
    "    # special case for n less than one\n",
    "    if n < 1:\n",
    "        return []\n",
    "    \n",
    "    words = text.lower().split(' ')\n",
    "    result = []\n",
    "    for start in range(len(words) +1 - n):\n",
    "        ngram = ' '.join(words[start:start+n])\n",
    "        if text.count(ngram) >= cutoff and ngram not in result:\n",
    "            result.append(ngram)\n",
    "            \n",
    "    return result\n",
    "\n",
    "\n",
    "text = \"it was the best of times it was the worst of times\"\n",
    "\n",
    "assert find_common_ngrams(text, 2, 0) == []"
   ]
  },
  {
   "cell_type": "markdown",
   "metadata": {},
   "source": [
    "\n",
    "If we add in a few more assertions we get a *test suite* that tests several different types of behaviour:"
   ]
  },
  {
   "cell_type": "code",
   "execution_count": 13,
   "metadata": {
    "collapsed": false
   },
   "outputs": [],
   "source": [
    "# test different cutoffs for the same n\n",
    "assert find_common_ngrams(text, 2, 1) == ['it', 'was', 'the', 'of', 'times']\n",
    "assert find_common_ngrams(text, 1, 1) == ['it', 'was', 'the', 'best', 'of', 'times', 'worst']\n",
    "\n",
    "# test different n with the same cutoff\n",
    "assert find_common_ngrams(text, 2, 3) == ['it was the']\n",
    "assert find_common_ngrams(text, 1, 12) == ['it was the best of times it was the worst of times']\n",
    "\n",
    "# test crazy values of n\n",
    "assert find_common_ngrams(text, 2, 0) == []\n",
    "assert find_common_ngrams(text, 2, -4) == []"
   ]
  },
  {
   "cell_type": "markdown",
   "metadata": {},
   "source": [
    "###Refactoring and regressions\n",
    "\n",
    "Let's do a few quick benchmarks. Open/read/clean the complete text of *Great Expectations*:"
   ]
  },
  {
   "cell_type": "code",
   "execution_count": 14,
   "metadata": {
    "collapsed": false
   },
   "outputs": [
    {
     "data": {
      "text/plain": [
       "\"chapter i my father's family name being pirrip and my christian name philip my infant tongue could make of both names nothing longer or more explicit than pip so i called myself pip and came to be called pip i give pirrip as my father's family name on the authority of his tombstone and my sister mrs joe gargery who married the blacksmith as i never saw my father or my mother and never saw any likeness of either of them for their days were long before the days of photographs my first fancies regarding what they were like were unreasonably derived from their tombstones the shape of the letters on my father's gave me an odd idea that he was a square stout dark man with curly black hair from the character and turn of the inscription also georgiana wife of the above i drew a childish conclusion that my mother was freckled and sickly to five little stone lozenges each about a foot and a half long which were arranged in a neat row beside their grave and were sacred to the memory of five littl\""
      ]
     },
     "execution_count": 14,
     "metadata": {},
     "output_type": "execute_result"
    }
   ],
   "source": [
    "ge = open(\"great_expectations_complete.txt\").read()\n",
    "\n",
    "# strip all punctuation\n",
    "punctuation = ',:.\"!?-()'\n",
    "for character in punctuation:\n",
    "    ge = ge.replace(character, ' ')\n",
    "\n",
    "# quick way to replace multiple spaces with one\n",
    "ge = ' '.join(ge.split())\n",
    "\n",
    "# convert to lower case\n",
    "ge = ge.lower()\n",
    "    \n",
    "ge[0:1000]"
   ]
  },
  {
   "cell_type": "markdown",
   "metadata": {},
   "source": [
    "Does it work?"
   ]
  },
  {
   "cell_type": "code",
   "execution_count": 7,
   "metadata": {
    "collapsed": false
   },
   "outputs": [
    {
     "data": {
      "text/plain": [
       "['he was a',\n",
       " 'as if he',\n",
       " 'up by hand',\n",
       " 'said my sister',\n",
       " 'on the marshes',\n",
       " 'the leg of',\n",
       " 'as if i',\n",
       " 'if i had',\n",
       " 'looked at me',\n",
       " 'if he had',\n",
       " 'was going to',\n",
       " 'i had been',\n",
       " 'it was a',\n",
       " 'said the sergeant',\n",
       " 'one of the',\n",
       " 'the sergeant a']"
      ]
     },
     "execution_count": 7,
     "metadata": {},
     "output_type": "execute_result"
    }
   ],
   "source": [
    "find_common_ngrams(ge[0:100000], 8, 3)"
   ]
  },
  {
   "cell_type": "markdown",
   "metadata": {},
   "source": [
    "Now let's see how it scales..."
   ]
  },
  {
   "cell_type": "code",
   "execution_count": 15,
   "metadata": {
    "collapsed": false
   },
   "outputs": [
    {
     "name": "stdout",
     "output_type": "stream",
     "text": [
      "1000 loops, best of 3: 365 µs per loop\n",
      "1000 loops, best of 3: 1.14 ms per loop\n",
      "100 loops, best of 3: 4.28 ms per loop\n",
      "100 loops, best of 3: 16.6 ms per loop\n"
     ]
    }
   ],
   "source": [
    "%timeit find_common_ngrams(ge[0:1000], 8, 3)\n",
    "%timeit find_common_ngrams(ge[0:2000], 8, 3)\n",
    "%timeit find_common_ngrams(ge[0:4000], 8, 3)\n",
    "%timeit find_common_ngrams(ge[0:8000], 8, 3)"
   ]
  },
  {
   "cell_type": "markdown",
   "metadata": {
    "collapsed": true
   },
   "source": [
    "Not good - the length of the sequence doubles, but the time more than doubles.\n",
    "\n",
    "(why? because `count()` scales linearly with the text and is called inside a loop whose number of iterations also scales linearly with the text.) \n",
    "\n",
    ">We need to rewrite the function to be faster. \n",
    "\n",
    "**But**, what if we (or others) have already written code that uses the function?\n",
    "\n",
    ">We need to rewrite the function to be faster, **without changing its behaviour**.\n",
    "\n",
    "We call this *refactoring*\n",
    "\n",
    "Here's a different approach: use a dict to keep count of the number of times we've seen each n-gram:"
   ]
  },
  {
   "cell_type": "code",
   "execution_count": 9,
   "metadata": {
    "collapsed": false
   },
   "outputs": [
    {
     "data": {
      "text/plain": [
       "{'best of': 1,\n",
       " 'it was': 2,\n",
       " 'of times': 2,\n",
       " 'the best': 1,\n",
       " 'the worst': 1,\n",
       " 'times it': 1,\n",
       " 'was the': 2,\n",
       " 'worst of': 1}"
      ]
     },
     "execution_count": 9,
     "metadata": {},
     "output_type": "execute_result"
    }
   ],
   "source": [
    "def count_ngrams(text, cutoff, n):\n",
    "    words = text.lower().split(' ')\n",
    "    ngram_counts = {}\n",
    "    for start in range(len(words) +1 - n):\n",
    "        ngram = ' '.join(words[start:start+n])\n",
    "        current_count = ngram_counts.get(ngram, 0)\n",
    "        ngram_counts[ngram] = current_count + 1\n",
    "\n",
    "    return ngram_counts\n",
    "\n",
    "count_ngrams(text, 2, 2)"
   ]
  },
  {
   "cell_type": "markdown",
   "metadata": {
    "collapsed": true
   },
   "source": [
    "Now we can take that dict and use it to generate the result list:"
   ]
  },
  {
   "cell_type": "code",
   "execution_count": 18,
   "metadata": {
    "collapsed": false
   },
   "outputs": [
    {
     "data": {
      "text/plain": [
       "['was the', 'it was', 'of times']"
      ]
     },
     "execution_count": 18,
     "metadata": {},
     "output_type": "execute_result"
    }
   ],
   "source": [
    "def find_common_ngrams(text, cutoff, n):\n",
    "    \n",
    "    # first generate a dict of n-gram counts\n",
    "    words = text.lower().split(' ')\n",
    "    ngram_counts = {}\n",
    "    for start in range(len(words) +1 - n):\n",
    "        ngram = ' '.join(words[start:start+n])\n",
    "        current_count = ngram_counts.get(ngram, 0)\n",
    "        ngram_counts[ngram] = current_count + 1\n",
    "    \n",
    "    # now return just the ngrams with count > cutoff\n",
    "    result = []\n",
    "    for ngram, count in ngram_counts.items():\n",
    "        if count >= cutoff:\n",
    "            result.append(ngram)\n",
    "        \n",
    "    return result\n",
    "\n",
    "find_common_ngrams(text, 2, 2)"
   ]
  },
  {
   "cell_type": "markdown",
   "metadata": {
    "collapsed": true
   },
   "source": [
    "First question: is it faster?"
   ]
  },
  {
   "cell_type": "code",
   "execution_count": 11,
   "metadata": {
    "collapsed": false
   },
   "outputs": [
    {
     "name": "stdout",
     "output_type": "stream",
     "text": [
      "1000 loops, best of 3: 218 µs per loop\n",
      "1000 loops, best of 3: 367 µs per loop\n",
      "1000 loops, best of 3: 735 µs per loop\n",
      "1000 loops, best of 3: 1.6 ms per loop\n"
     ]
    }
   ],
   "source": [
    "%timeit find_common_ngrams(ge[0:1000], 8, 3)\n",
    "%timeit find_common_ngrams(ge[0:2000], 8, 3)\n",
    "%timeit find_common_ngrams(ge[0:4000], 8, 3)\n",
    "%timeit find_common_ngrams(ge[0:8000], 8, 3)"
   ]
  },
  {
   "cell_type": "markdown",
   "metadata": {
    "collapsed": true
   },
   "source": [
    "Yes, it's much faster in absolute terms and it also scales much more linearly. \n",
    "\n",
    "Second question: does it still have the same behaviour?\n",
    "\n",
    "####Do this: re-run the test suite for the new function and see if we've broken anything\n",
    "\n",
    "[click here for part 4](Testing for scientists part 4.html)"
   ]
  },
  {
   "cell_type": "code",
   "execution_count": 222,
   "metadata": {
    "collapsed": false
   },
   "outputs": [
    {
     "data": {
      "application/javascript": [
       "\n",
       "function regentoc() {\n",
       "    document.getElementById(\"toc\").innerHTML = \"\";\n",
       "    var currenth2 = 0;\n",
       "    $(\"h2,h3\").not(\"#Contents\").each(function(mainIndex) {\n",
       "        el = $(this);\n",
       "        title = el.attr(\"id\");\n",
       "        text = el.html();\n",
       "        link = \"#\" + el.attr(\"id\");\n",
       "        if ( document.getElementById(title).tagName == \"H2\" ) {\n",
       "            currenth2 += 1;\n",
       "            newLine =\n",
       "                \"<li class='maintoc'>\" +\n",
       "                   \"<a href='\" + link + \"'>\" + text + \"</a>\" +\n",
       "                \"</li>\" +\n",
       "                \"<ul id='h2\" + currenth2 + \"'></ul>\";\n",
       "            document.getElementById(\"toc\").innerHTML += newLine;\n",
       "        } else if ( document.getElementById(title).tagName==\"H3\" ) {\n",
       "            h1list = document.getElementById(\"h2\"+currenth2);\n",
       "            newLine = \"<li class='subtoc'>\" + \"<a href='\" + link + \"'>\" + text + \"</a>\" + \"</li>\";\n",
       "            h1list.innerHTML += newLine;\n",
       "        }\n",
       "    });\n",
       "}\n",
       " \n",
       "setInterval(regentoc,1000);\n"
      ],
      "text/plain": [
       "<IPython.core.display.Javascript object>"
      ]
     },
     "execution_count": 222,
     "metadata": {},
     "output_type": "execute_result"
    }
   ],
   "source": [
    "# ignore this cell, it's for loading custom js code\n",
    "from IPython.core.display import Javascript\n",
    "Javascript(filename=\"custom.js\")"
   ]
  },
  {
   "cell_type": "code",
   "execution_count": 223,
   "metadata": {
    "collapsed": false
   },
   "outputs": [
    {
     "data": {
      "text/html": [
       "<style>\n",
       "@import url(http://fonts.googleapis.com/css?family=Vollkorn:400,400italic,700,700italic);\n",
       "\n",
       "div.output_text{\n",
       "        max-height:400px;\n",
       "        overflow:scroll;\n",
       "}\n",
       "\n",
       "div#notebook, div.output_text, div.rendered_html {\n",
       "  /* font-family: 'PT Serif' !important; */\n",
       "  font-family: 'Volkorn'; \n",
       "\n",
       "} \n",
       "\n",
       "div.CodeMirror, div.output_area pre, div.output_wrapper, div.prompt {\n",
       "  font-family: 'Source Code Pro', monospace !important;\n",
       "}\n",
       "\n",
       ".output_text {\n",
       "  background-color: #f0f0f0;\n",
       "}\n",
       "\n",
       "\n",
       ".prompt { display: none; }\n",
       "div.output_subarea { max-width: calc(100%); }\n",
       "</style>\n",
       "\n"
      ],
      "text/plain": [
       "<IPython.core.display.HTML object>"
      ]
     },
     "execution_count": 223,
     "metadata": {},
     "output_type": "execute_result"
    }
   ],
   "source": [
    "# ignore this cell, it's for loading custom css code\n",
    "from IPython.core.display import HTML\n",
    "HTML(filename=\"custom.css\")"
   ]
  }
 ],
 "metadata": {
  "kernelspec": {
   "display_name": "Python 2",
   "language": "python",
   "name": "python2"
  },
  "language_info": {
   "codemirror_mode": {
    "name": "ipython",
    "version": 2
   },
   "file_extension": ".py",
   "mimetype": "text/x-python",
   "name": "python",
   "nbconvert_exporter": "python",
   "pygments_lexer": "ipython2",
   "version": "2.7.6"
  }
 },
 "nbformat": 4,
 "nbformat_minor": 0
}
